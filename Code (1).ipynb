{
  "nbformat": 4,
  "nbformat_minor": 0,
  "metadata": {
    "colab": {
      "provenance": []
    },
    "kernelspec": {
      "name": "python3",
      "display_name": "Python 3"
    },
    "language_info": {
      "name": "python"
    }
  },
  "cells": [
    {
      "cell_type": "markdown",
      "source": [
        "#Import"
      ],
      "metadata": {
        "id": "BqXIeMkCPVfo"
      }
    },
    {
      "cell_type": "code",
      "execution_count": null,
      "metadata": {
        "id": "85lAKCOPDAhU"
      },
      "outputs": [],
      "source": [
        "!pip install matplotlib\n",
        "!pip install seaborn\n",
        "!pip install nsepy"
      ]
    },
    {
      "cell_type": "code",
      "source": [
        "import numpy as np\n",
        "import pandas as pd\n",
        "import matplotlib.pyplot as plt\n",
        "import seaborn as sb\n",
        "from datetime import date\n",
        "from nsepy import get_history as gh\n",
        "plt.style.use('fivethirtyeight') #setting matplotlib style"
      ],
      "metadata": {
        "id": "GtuOtOXsDJt3"
      },
      "execution_count": null,
      "outputs": []
    },
    {
      "cell_type": "code",
      "source": [
        "import warnings\n",
        "warnings.filterwarnings(\"ignore\")\n",
        "import cvxpy as cp\n",
        "from cvxpy import *\n",
        "import pandas as pd"
      ],
      "metadata": {
        "id": "Vb_0AUNHGsX6"
      },
      "execution_count": null,
      "outputs": []
    },
    {
      "cell_type": "markdown",
      "source": [
        "#Data Preprocessing"
      ],
      "metadata": {
        "id": "i7QM4XzNPXyC"
      }
    },
    {
      "cell_type": "code",
      "source": [
        "symbols = ['TATAMOTORS','DABUR', 'ICICIBANK','WIPRO','BPCL','IRCTC','INFY','RELIANCE']\n",
        "\n",
        "startdate = date(2021,1,1)\n",
        "end_date = date(2021,12,31)"
      ],
      "metadata": {
        "id": "_1W5F17BDWft"
      },
      "execution_count": null,
      "outputs": []
    },
    {
      "cell_type": "code",
      "source": [
        "df = pd.DataFrame()\n",
        "for i in range(len(symbols)):\n",
        "    data = gh(symbol=symbols[i],start=startdate, end=(end_date))[['Symbol','Close']]\n",
        "    data.rename(columns={'Close':data['Symbol'][0]},inplace=True)\n",
        "    data.drop(['Symbol'], axis=1,inplace=True)\n",
        "    if i == 0:\n",
        "        df = data\n",
        "    if i != 0:\n",
        "        df = df.join(data)\n",
        "df"
      ],
      "metadata": {
        "colab": {
          "base_uri": "https://localhost:8080/",
          "height": 455
        },
        "id": "8kxAIplcDb8o",
        "outputId": "1237a220-514e-4856-bf6a-3faec8203719"
      },
      "execution_count": null,
      "outputs": [
        {
          "output_type": "execute_result",
          "data": {
            "text/plain": [
              "            TATAMOTORS   DABUR  ICICIBANK   WIPRO    BPCL    IRCTC     INFY  \\\n",
              "Date                                                                          \n",
              "2021-01-01      186.50  534.20     527.50  388.10  381.95  1445.00  1260.45   \n",
              "2021-01-04      191.30  543.35     531.70  396.40  395.35  1451.05  1288.25   \n",
              "2021-01-05      193.20  538.90     537.25  406.30  392.00  1456.85  1293.80   \n",
              "2021-01-06      195.40  534.10     546.70  406.40  387.30  1483.45  1282.10   \n",
              "2021-01-07      196.75  535.20     541.10  406.75  392.20  1489.45  1262.15   \n",
              "...                ...     ...        ...     ...     ...      ...      ...   \n",
              "2021-12-27      471.15  561.45     736.00  699.60  374.40   839.00  1866.15   \n",
              "2021-12-28      480.20  562.45     735.80  705.45  380.40   863.50  1888.00   \n",
              "2021-12-29      476.00  566.60     735.70  703.70  381.10   849.35  1885.55   \n",
              "2021-12-30      470.40  571.55     735.70  714.10  377.95   833.00  1892.85   \n",
              "2021-12-31      482.40  580.05     740.15  715.35  385.45   831.75  1887.75   \n",
              "\n",
              "            RELIANCE  \n",
              "Date                  \n",
              "2021-01-01   1987.50  \n",
              "2021-01-04   1990.85  \n",
              "2021-01-05   1966.10  \n",
              "2021-01-06   1914.25  \n",
              "2021-01-07   1911.15  \n",
              "...              ...  \n",
              "2021-12-27   2370.25  \n",
              "2021-12-28   2398.40  \n",
              "2021-12-29   2402.50  \n",
              "2021-12-30   2359.10  \n",
              "2021-12-31   2368.15  \n",
              "\n",
              "[248 rows x 8 columns]"
            ],
            "text/html": [
              "\n",
              "  <div id=\"df-306d08c3-8351-4dff-8148-160f0be145cc\">\n",
              "    <div class=\"colab-df-container\">\n",
              "      <div>\n",
              "<style scoped>\n",
              "    .dataframe tbody tr th:only-of-type {\n",
              "        vertical-align: middle;\n",
              "    }\n",
              "\n",
              "    .dataframe tbody tr th {\n",
              "        vertical-align: top;\n",
              "    }\n",
              "\n",
              "    .dataframe thead th {\n",
              "        text-align: right;\n",
              "    }\n",
              "</style>\n",
              "<table border=\"1\" class=\"dataframe\">\n",
              "  <thead>\n",
              "    <tr style=\"text-align: right;\">\n",
              "      <th></th>\n",
              "      <th>TATAMOTORS</th>\n",
              "      <th>DABUR</th>\n",
              "      <th>ICICIBANK</th>\n",
              "      <th>WIPRO</th>\n",
              "      <th>BPCL</th>\n",
              "      <th>IRCTC</th>\n",
              "      <th>INFY</th>\n",
              "      <th>RELIANCE</th>\n",
              "    </tr>\n",
              "    <tr>\n",
              "      <th>Date</th>\n",
              "      <th></th>\n",
              "      <th></th>\n",
              "      <th></th>\n",
              "      <th></th>\n",
              "      <th></th>\n",
              "      <th></th>\n",
              "      <th></th>\n",
              "      <th></th>\n",
              "    </tr>\n",
              "  </thead>\n",
              "  <tbody>\n",
              "    <tr>\n",
              "      <th>2021-01-01</th>\n",
              "      <td>186.50</td>\n",
              "      <td>534.20</td>\n",
              "      <td>527.50</td>\n",
              "      <td>388.10</td>\n",
              "      <td>381.95</td>\n",
              "      <td>1445.00</td>\n",
              "      <td>1260.45</td>\n",
              "      <td>1987.50</td>\n",
              "    </tr>\n",
              "    <tr>\n",
              "      <th>2021-01-04</th>\n",
              "      <td>191.30</td>\n",
              "      <td>543.35</td>\n",
              "      <td>531.70</td>\n",
              "      <td>396.40</td>\n",
              "      <td>395.35</td>\n",
              "      <td>1451.05</td>\n",
              "      <td>1288.25</td>\n",
              "      <td>1990.85</td>\n",
              "    </tr>\n",
              "    <tr>\n",
              "      <th>2021-01-05</th>\n",
              "      <td>193.20</td>\n",
              "      <td>538.90</td>\n",
              "      <td>537.25</td>\n",
              "      <td>406.30</td>\n",
              "      <td>392.00</td>\n",
              "      <td>1456.85</td>\n",
              "      <td>1293.80</td>\n",
              "      <td>1966.10</td>\n",
              "    </tr>\n",
              "    <tr>\n",
              "      <th>2021-01-06</th>\n",
              "      <td>195.40</td>\n",
              "      <td>534.10</td>\n",
              "      <td>546.70</td>\n",
              "      <td>406.40</td>\n",
              "      <td>387.30</td>\n",
              "      <td>1483.45</td>\n",
              "      <td>1282.10</td>\n",
              "      <td>1914.25</td>\n",
              "    </tr>\n",
              "    <tr>\n",
              "      <th>2021-01-07</th>\n",
              "      <td>196.75</td>\n",
              "      <td>535.20</td>\n",
              "      <td>541.10</td>\n",
              "      <td>406.75</td>\n",
              "      <td>392.20</td>\n",
              "      <td>1489.45</td>\n",
              "      <td>1262.15</td>\n",
              "      <td>1911.15</td>\n",
              "    </tr>\n",
              "    <tr>\n",
              "      <th>...</th>\n",
              "      <td>...</td>\n",
              "      <td>...</td>\n",
              "      <td>...</td>\n",
              "      <td>...</td>\n",
              "      <td>...</td>\n",
              "      <td>...</td>\n",
              "      <td>...</td>\n",
              "      <td>...</td>\n",
              "    </tr>\n",
              "    <tr>\n",
              "      <th>2021-12-27</th>\n",
              "      <td>471.15</td>\n",
              "      <td>561.45</td>\n",
              "      <td>736.00</td>\n",
              "      <td>699.60</td>\n",
              "      <td>374.40</td>\n",
              "      <td>839.00</td>\n",
              "      <td>1866.15</td>\n",
              "      <td>2370.25</td>\n",
              "    </tr>\n",
              "    <tr>\n",
              "      <th>2021-12-28</th>\n",
              "      <td>480.20</td>\n",
              "      <td>562.45</td>\n",
              "      <td>735.80</td>\n",
              "      <td>705.45</td>\n",
              "      <td>380.40</td>\n",
              "      <td>863.50</td>\n",
              "      <td>1888.00</td>\n",
              "      <td>2398.40</td>\n",
              "    </tr>\n",
              "    <tr>\n",
              "      <th>2021-12-29</th>\n",
              "      <td>476.00</td>\n",
              "      <td>566.60</td>\n",
              "      <td>735.70</td>\n",
              "      <td>703.70</td>\n",
              "      <td>381.10</td>\n",
              "      <td>849.35</td>\n",
              "      <td>1885.55</td>\n",
              "      <td>2402.50</td>\n",
              "    </tr>\n",
              "    <tr>\n",
              "      <th>2021-12-30</th>\n",
              "      <td>470.40</td>\n",
              "      <td>571.55</td>\n",
              "      <td>735.70</td>\n",
              "      <td>714.10</td>\n",
              "      <td>377.95</td>\n",
              "      <td>833.00</td>\n",
              "      <td>1892.85</td>\n",
              "      <td>2359.10</td>\n",
              "    </tr>\n",
              "    <tr>\n",
              "      <th>2021-12-31</th>\n",
              "      <td>482.40</td>\n",
              "      <td>580.05</td>\n",
              "      <td>740.15</td>\n",
              "      <td>715.35</td>\n",
              "      <td>385.45</td>\n",
              "      <td>831.75</td>\n",
              "      <td>1887.75</td>\n",
              "      <td>2368.15</td>\n",
              "    </tr>\n",
              "  </tbody>\n",
              "</table>\n",
              "<p>248 rows × 8 columns</p>\n",
              "</div>\n",
              "      <button class=\"colab-df-convert\" onclick=\"convertToInteractive('df-306d08c3-8351-4dff-8148-160f0be145cc')\"\n",
              "              title=\"Convert this dataframe to an interactive table.\"\n",
              "              style=\"display:none;\">\n",
              "        \n",
              "  <svg xmlns=\"http://www.w3.org/2000/svg\" height=\"24px\"viewBox=\"0 0 24 24\"\n",
              "       width=\"24px\">\n",
              "    <path d=\"M0 0h24v24H0V0z\" fill=\"none\"/>\n",
              "    <path d=\"M18.56 5.44l.94 2.06.94-2.06 2.06-.94-2.06-.94-.94-2.06-.94 2.06-2.06.94zm-11 1L8.5 8.5l.94-2.06 2.06-.94-2.06-.94L8.5 2.5l-.94 2.06-2.06.94zm10 10l.94 2.06.94-2.06 2.06-.94-2.06-.94-.94-2.06-.94 2.06-2.06.94z\"/><path d=\"M17.41 7.96l-1.37-1.37c-.4-.4-.92-.59-1.43-.59-.52 0-1.04.2-1.43.59L10.3 9.45l-7.72 7.72c-.78.78-.78 2.05 0 2.83L4 21.41c.39.39.9.59 1.41.59.51 0 1.02-.2 1.41-.59l7.78-7.78 2.81-2.81c.8-.78.8-2.07 0-2.86zM5.41 20L4 18.59l7.72-7.72 1.47 1.35L5.41 20z\"/>\n",
              "  </svg>\n",
              "      </button>\n",
              "      \n",
              "  <style>\n",
              "    .colab-df-container {\n",
              "      display:flex;\n",
              "      flex-wrap:wrap;\n",
              "      gap: 12px;\n",
              "    }\n",
              "\n",
              "    .colab-df-convert {\n",
              "      background-color: #E8F0FE;\n",
              "      border: none;\n",
              "      border-radius: 50%;\n",
              "      cursor: pointer;\n",
              "      display: none;\n",
              "      fill: #1967D2;\n",
              "      height: 32px;\n",
              "      padding: 0 0 0 0;\n",
              "      width: 32px;\n",
              "    }\n",
              "\n",
              "    .colab-df-convert:hover {\n",
              "      background-color: #E2EBFA;\n",
              "      box-shadow: 0px 1px 2px rgba(60, 64, 67, 0.3), 0px 1px 3px 1px rgba(60, 64, 67, 0.15);\n",
              "      fill: #174EA6;\n",
              "    }\n",
              "\n",
              "    [theme=dark] .colab-df-convert {\n",
              "      background-color: #3B4455;\n",
              "      fill: #D2E3FC;\n",
              "    }\n",
              "\n",
              "    [theme=dark] .colab-df-convert:hover {\n",
              "      background-color: #434B5C;\n",
              "      box-shadow: 0px 1px 3px 1px rgba(0, 0, 0, 0.15);\n",
              "      filter: drop-shadow(0px 1px 2px rgba(0, 0, 0, 0.3));\n",
              "      fill: #FFFFFF;\n",
              "    }\n",
              "  </style>\n",
              "\n",
              "      <script>\n",
              "        const buttonEl =\n",
              "          document.querySelector('#df-306d08c3-8351-4dff-8148-160f0be145cc button.colab-df-convert');\n",
              "        buttonEl.style.display =\n",
              "          google.colab.kernel.accessAllowed ? 'block' : 'none';\n",
              "\n",
              "        async function convertToInteractive(key) {\n",
              "          const element = document.querySelector('#df-306d08c3-8351-4dff-8148-160f0be145cc');\n",
              "          const dataTable =\n",
              "            await google.colab.kernel.invokeFunction('convertToInteractive',\n",
              "                                                     [key], {});\n",
              "          if (!dataTable) return;\n",
              "\n",
              "          const docLinkHtml = 'Like what you see? Visit the ' +\n",
              "            '<a target=\"_blank\" href=https://colab.research.google.com/notebooks/data_table.ipynb>data table notebook</a>'\n",
              "            + ' to learn more about interactive tables.';\n",
              "          element.innerHTML = '';\n",
              "          dataTable['output_type'] = 'display_data';\n",
              "          await google.colab.output.renderOutput(dataTable, element);\n",
              "          const docLink = document.createElement('div');\n",
              "          docLink.innerHTML = docLinkHtml;\n",
              "          element.appendChild(docLink);\n",
              "        }\n",
              "      </script>\n",
              "    </div>\n",
              "  </div>\n",
              "  "
            ]
          },
          "metadata": {},
          "execution_count": 5
        }
      ]
    },
    {
      "cell_type": "code",
      "source": [],
      "metadata": {
        "id": "zvxokl-RTuGF"
      },
      "execution_count": null,
      "outputs": []
    },
    {
      "cell_type": "code",
      "source": [
        "fig, ax = plt.subplots(figsize=(15,8))\n",
        "for i in df.columns.values :\n",
        "    ax.plot(df[i], label = i)\n",
        "ax.set_title(\"Portfolio Close Price History\")\n",
        "ax.set_xlabel('Date', fontsize=18)\n",
        "ax.set_ylabel('Close Price INR (₨)' , fontsize=18)\n",
        "ax.legend(df.columns.values , loc = 'upper left')\n",
        "plt.show(fig)\n"
      ],
      "metadata": {
        "colab": {
          "base_uri": "https://localhost:8080/",
          "height": 558
        },
        "id": "-NZAO4CTD2DQ",
        "outputId": "4d3d3ccd-35c7-4af5-b29d-605acbbbc81b"
      },
      "execution_count": null,
      "outputs": [
        {
          "output_type": "display_data",
          "data": {
            "text/plain": [
              "<Figure size 1080x576 with 1 Axes>"
            ],
            "image/png": "[encoded data removed]"
          },
          "metadata": {}
        }
      ]
    },
    {
      "cell_type": "code",
      "source": [
        "correlation_matrix = df.corr(method='pearson')\n",
        "correlation_matrix"
      ],
      "metadata": {
        "colab": {
          "base_uri": "https://localhost:8080/",
          "height": 300
        },
        "id": "cilwKVJoEiUW",
        "outputId": "5ad8d043-1b55-47fd-db93-467b18d21624"
      },
      "execution_count": null,
      "outputs": [
        {
          "output_type": "execute_result",
          "data": {
            "text/plain": [
              "            TATAMOTORS     DABUR  ICICIBANK     WIPRO      BPCL     IRCTC  \\\n",
              "TATAMOTORS    1.000000  0.301707   0.764620  0.633515 -0.304762 -0.131737   \n",
              "DABUR         0.301707  1.000000   0.678025  0.820682  0.177813  0.485424   \n",
              "ICICIBANK     0.764620  0.678025   1.000000  0.889561  0.004754  0.195363   \n",
              "WIPRO         0.633515  0.820682   0.889561  1.000000  0.037929  0.321214   \n",
              "BPCL         -0.304762  0.177813   0.004754  0.037929  1.000000  0.522970   \n",
              "IRCTC        -0.131737  0.485424   0.195363  0.321214  0.522970  1.000000   \n",
              "INFY          0.641903  0.813994   0.860716  0.947488 -0.073516  0.232197   \n",
              "RELIANCE      0.748960  0.693420   0.843508  0.822744 -0.006206  0.384793   \n",
              "\n",
              "                INFY  RELIANCE  \n",
              "TATAMOTORS  0.641903  0.748960  \n",
              "DABUR       0.813994  0.693420  \n",
              "ICICIBANK   0.860716  0.843508  \n",
              "WIPRO       0.947488  0.822744  \n",
              "BPCL       -0.073516 -0.006206  \n",
              "IRCTC       0.232197  0.384793  \n",
              "INFY        1.000000  0.801302  \n",
              "RELIANCE    0.801302  1.000000  "
            ],
            "text/html": [
              "\n",
              "  <div id=\"df-4aec54d0-bf63-4326-a4c6-138f15d20488\">\n",
              "    <div class=\"colab-df-container\">\n",
              "      <div>\n",
              "<style scoped>\n",
              "    .dataframe tbody tr th:only-of-type {\n",
              "        vertical-align: middle;\n",
              "    }\n",
              "\n",
              "    .dataframe tbody tr th {\n",
              "        vertical-align: top;\n",
              "    }\n",
              "\n",
              "    .dataframe thead th {\n",
              "        text-align: right;\n",
              "    }\n",
              "</style>\n",
              "<table border=\"1\" class=\"dataframe\">\n",
              "  <thead>\n",
              "    <tr style=\"text-align: right;\">\n",
              "      <th></th>\n",
              "      <th>TATAMOTORS</th>\n",
              "      <th>DABUR</th>\n",
              "      <th>ICICIBANK</th>\n",
              "      <th>WIPRO</th>\n",
              "      <th>BPCL</th>\n",
              "      <th>IRCTC</th>\n",
              "      <th>INFY</th>\n",
              "      <th>RELIANCE</th>\n",
              "    </tr>\n",
              "  </thead>\n",
              "  <tbody>\n",
              "    <tr>\n",
              "      <th>TATAMOTORS</th>\n",
              "      <td>1.000000</td>\n",
              "      <td>0.301707</td>\n",
              "      <td>0.764620</td>\n",
              "      <td>0.633515</td>\n",
              "      <td>-0.304762</td>\n",
              "      <td>-0.131737</td>\n",
              "      <td>0.641903</td>\n",
              "      <td>0.748960</td>\n",
              "    </tr>\n",
              "    <tr>\n",
              "      <th>DABUR</th>\n",
              "      <td>0.301707</td>\n",
              "      <td>1.000000</td>\n",
              "      <td>0.678025</td>\n",
              "      <td>0.820682</td>\n",
              "      <td>0.177813</td>\n",
              "      <td>0.485424</td>\n",
              "      <td>0.813994</td>\n",
              "      <td>0.693420</td>\n",
              "    </tr>\n",
              "    <tr>\n",
              "      <th>ICICIBANK</th>\n",
              "      <td>0.764620</td>\n",
              "      <td>0.678025</td>\n",
              "      <td>1.000000</td>\n",
              "      <td>0.889561</td>\n",
              "      <td>0.004754</td>\n",
              "      <td>0.195363</td>\n",
              "      <td>0.860716</td>\n",
              "      <td>0.843508</td>\n",
              "    </tr>\n",
              "    <tr>\n",
              "      <th>WIPRO</th>\n",
              "      <td>0.633515</td>\n",
              "      <td>0.820682</td>\n",
              "      <td>0.889561</td>\n",
              "      <td>1.000000</td>\n",
              "      <td>0.037929</td>\n",
              "      <td>0.321214</td>\n",
              "      <td>0.947488</td>\n",
              "      <td>0.822744</td>\n",
              "    </tr>\n",
              "    <tr>\n",
              "      <th>BPCL</th>\n",
              "      <td>-0.304762</td>\n",
              "      <td>0.177813</td>\n",
              "      <td>0.004754</td>\n",
              "      <td>0.037929</td>\n",
              "      <td>1.000000</td>\n",
              "      <td>0.522970</td>\n",
              "      <td>-0.073516</td>\n",
              "      <td>-0.006206</td>\n",
              "    </tr>\n",
              "    <tr>\n",
              "      <th>IRCTC</th>\n",
              "      <td>-0.131737</td>\n",
              "      <td>0.485424</td>\n",
              "      <td>0.195363</td>\n",
              "      <td>0.321214</td>\n",
              "      <td>0.522970</td>\n",
              "      <td>1.000000</td>\n",
              "      <td>0.232197</td>\n",
              "      <td>0.384793</td>\n",
              "    </tr>\n",
              "    <tr>\n",
              "      <th>INFY</th>\n",
              "      <td>0.641903</td>\n",
              "      <td>0.813994</td>\n",
              "      <td>0.860716</td>\n",
              "      <td>0.947488</td>\n",
              "      <td>-0.073516</td>\n",
              "      <td>0.232197</td>\n",
              "      <td>1.000000</td>\n",
              "      <td>0.801302</td>\n",
              "    </tr>\n",
              "    <tr>\n",
              "      <th>RELIANCE</th>\n",
              "      <td>0.748960</td>\n",
              "      <td>0.693420</td>\n",
              "      <td>0.843508</td>\n",
              "      <td>0.822744</td>\n",
              "      <td>-0.006206</td>\n",
              "      <td>0.384793</td>\n",
              "      <td>0.801302</td>\n",
              "      <td>1.000000</td>\n",
              "    </tr>\n",
              "  </tbody>\n",
              "</table>\n",
              "</div>\n",
              "      <button class=\"colab-df-convert\" onclick=\"convertToInteractive('df-4aec54d0-bf63-4326-a4c6-138f15d20488')\"\n",
              "              title=\"Convert this dataframe to an interactive table.\"\n",
              "              style=\"display:none;\">\n",
              "        \n",
              "  <svg xmlns=\"http://www.w3.org/2000/svg\" height=\"24px\"viewBox=\"0 0 24 24\"\n",
              "       width=\"24px\">\n",
              "    <path d=\"M0 0h24v24H0V0z\" fill=\"none\"/>\n",
              "    <path d=\"M18.56 5.44l.94 2.06.94-2.06 2.06-.94-2.06-.94-.94-2.06-.94 2.06-2.06.94zm-11 1L8.5 8.5l.94-2.06 2.06-.94-2.06-.94L8.5 2.5l-.94 2.06-2.06.94zm10 10l.94 2.06.94-2.06 2.06-.94-2.06-.94-.94-2.06-.94 2.06-2.06.94z\"/><path d=\"M17.41 7.96l-1.37-1.37c-.4-.4-.92-.59-1.43-.59-.52 0-1.04.2-1.43.59L10.3 9.45l-7.72 7.72c-.78.78-.78 2.05 0 2.83L4 21.41c.39.39.9.59 1.41.59.51 0 1.02-.2 1.41-.59l7.78-7.78 2.81-2.81c.8-.78.8-2.07 0-2.86zM5.41 20L4 18.59l7.72-7.72 1.47 1.35L5.41 20z\"/>\n",
              "  </svg>\n",
              "      </button>\n",
              "      \n",
              "  <style>\n",
              "    .colab-df-container {\n",
              "      display:flex;\n",
              "      flex-wrap:wrap;\n",
              "      gap: 12px;\n",
              "    }\n",
              "\n",
              "    .colab-df-convert {\n",
              "      background-color: #E8F0FE;\n",
              "      border: none;\n",
              "      border-radius: 50%;\n",
              "      cursor: pointer;\n",
              "      display: none;\n",
              "      fill: #1967D2;\n",
              "      height: 32px;\n",
              "      padding: 0 0 0 0;\n",
              "      width: 32px;\n",
              "    }\n",
              "\n",
              "    .colab-df-convert:hover {\n",
              "      background-color: #E2EBFA;\n",
              "      box-shadow: 0px 1px 2px rgba(60, 64, 67, 0.3), 0px 1px 3px 1px rgba(60, 64, 67, 0.15);\n",
              "      fill: #174EA6;\n",
              "    }\n",
              "\n",
              "    [theme=dark] .colab-df-convert {\n",
              "      background-color: #3B4455;\n",
              "      fill: #D2E3FC;\n",
              "    }\n",
              "\n",
              "    [theme=dark] .colab-df-convert:hover {\n",
              "      background-color: #434B5C;\n",
              "      box-shadow: 0px 1px 3px 1px rgba(0, 0, 0, 0.15);\n",
              "      filter: drop-shadow(0px 1px 2px rgba(0, 0, 0, 0.3));\n",
              "      fill: #FFFFFF;\n",
              "    }\n",
              "  </style>\n",
              "\n",
              "      <script>\n",
              "        const buttonEl =\n",
              "          document.querySelector('#df-4aec54d0-bf63-4326-a4c6-138f15d20488 button.colab-df-convert');\n",
              "        buttonEl.style.display =\n",
              "          google.colab.kernel.accessAllowed ? 'block' : 'none';\n",
              "\n",
              "        async function convertToInteractive(key) {\n",
              "          const element = document.querySelector('#df-4aec54d0-bf63-4326-a4c6-138f15d20488');\n",
              "          const dataTable =\n",
              "            await google.colab.kernel.invokeFunction('convertToInteractive',\n",
              "                                                     [key], {});\n",
              "          if (!dataTable) return;\n",
              "\n",
              "          const docLinkHtml = 'Like what you see? Visit the ' +\n",
              "            '<a target=\"_blank\" href=https://colab.research.google.com/notebooks/data_table.ipynb>data table notebook</a>'\n",
              "            + ' to learn more about interactive tables.';\n",
              "          element.innerHTML = '';\n",
              "          dataTable['output_type'] = 'display_data';\n",
              "          await google.colab.output.renderOutput(dataTable, element);\n",
              "          const docLink = document.createElement('div');\n",
              "          docLink.innerHTML = docLinkHtml;\n",
              "          element.appendChild(docLink);\n",
              "        }\n",
              "      </script>\n",
              "    </div>\n",
              "  </div>\n",
              "  "
            ]
          },
          "metadata": {},
          "execution_count": 8
        }
      ]
    },
    {
      "cell_type": "code",
      "source": [
        "daily_simple_return = df.pct_change(1)\n",
        "daily_simple_return.dropna(inplace=True)\n",
        "data = daily_simple_return\n",
        "data"
      ],
      "metadata": {
        "colab": {
          "base_uri": "https://localhost:8080/",
          "height": 455
        },
        "id": "SVCdgHJSFc4n",
        "outputId": "6e518378-9984-47fc-ad34-01728ae29688"
      },
      "execution_count": null,
      "outputs": [
        {
          "output_type": "execute_result",
          "data": {
            "text/plain": [
              "            TATAMOTORS     DABUR  ICICIBANK     WIPRO      BPCL     IRCTC  \\\n",
              "Date                                                                        \n",
              "2021-01-04    0.025737  0.017128   0.007962  0.021386  0.035083  0.004187   \n",
              "2021-01-05    0.009932 -0.008190   0.010438  0.024975 -0.008474  0.003997   \n",
              "2021-01-06    0.011387 -0.008907   0.017590  0.000246 -0.011990  0.018259   \n",
              "2021-01-07    0.006909  0.002060  -0.010243  0.000861  0.012652  0.004045   \n",
              "2021-01-08    0.007116  0.009155   0.001756  0.057652  0.020270 -0.012051   \n",
              "...                ...       ...        ...       ...       ...       ...   \n",
              "2021-12-27    0.007592 -0.003991   0.012240  0.001647  0.006046  0.002150   \n",
              "2021-12-28    0.019208  0.001781  -0.000272  0.008362  0.016026  0.029201   \n",
              "2021-12-29   -0.008746  0.007378  -0.000136 -0.002481  0.001840 -0.016387   \n",
              "2021-12-30   -0.011765  0.008736   0.000000  0.014779 -0.008266 -0.019250   \n",
              "2021-12-31    0.025510  0.014872   0.006049  0.001750  0.019844 -0.001501   \n",
              "\n",
              "                INFY  RELIANCE  \n",
              "Date                            \n",
              "2021-01-04  0.022056  0.001686  \n",
              "2021-01-05  0.004308 -0.012432  \n",
              "2021-01-06 -0.009043 -0.026372  \n",
              "2021-01-07 -0.015560 -0.001619  \n",
              "2021-01-08  0.039575  0.011799  \n",
              "...              ...       ...  \n",
              "2021-12-27  0.001422 -0.001075  \n",
              "2021-12-28  0.011709  0.011876  \n",
              "2021-12-29 -0.001298  0.001709  \n",
              "2021-12-30  0.003872 -0.018065  \n",
              "2021-12-31 -0.002694  0.003836  \n",
              "\n",
              "[247 rows x 8 columns]"
            ],
            "text/html": [
              "\n",
              "  <div id=\"df-86589d5b-51ae-43f8-9ad9-da64ebe3a130\">\n",
              "    <div class=\"colab-df-container\">\n",
              "      <div>\n",
              "<style scoped>\n",
              "    .dataframe tbody tr th:only-of-type {\n",
              "        vertical-align: middle;\n",
              "    }\n",
              "\n",
              "    .dataframe tbody tr th {\n",
              "        vertical-align: top;\n",
              "    }\n",
              "\n",
              "    .dataframe thead th {\n",
              "        text-align: right;\n",
              "    }\n",
              "</style>\n",
              "<table border=\"1\" class=\"dataframe\">\n",
              "  <thead>\n",
              "    <tr style=\"text-align: right;\">\n",
              "      <th></th>\n",
              "      <th>TATAMOTORS</th>\n",
              "      <th>DABUR</th>\n",
              "      <th>ICICIBANK</th>\n",
              "      <th>WIPRO</th>\n",
              "      <th>BPCL</th>\n",
              "      <th>IRCTC</th>\n",
              "      <th>INFY</th>\n",
              "      <th>RELIANCE</th>\n",
              "    </tr>\n",
              "    <tr>\n",
              "      <th>Date</th>\n",
              "      <th></th>\n",
              "      <th></th>\n",
              "      <th></th>\n",
              "      <th></th>\n",
              "      <th></th>\n",
              "      <th></th>\n",
              "      <th></th>\n",
              "      <th></th>\n",
              "    </tr>\n",
              "  </thead>\n",
              "  <tbody>\n",
              "    <tr>\n",
              "      <th>2021-01-04</th>\n",
              "      <td>0.025737</td>\n",
              "      <td>0.017128</td>\n",
              "      <td>0.007962</td>\n",
              "      <td>0.021386</td>\n",
              "      <td>0.035083</td>\n",
              "      <td>0.004187</td>\n",
              "      <td>0.022056</td>\n",
              "      <td>0.001686</td>\n",
              "    </tr>\n",
              "    <tr>\n",
              "      <th>2021-01-05</th>\n",
              "      <td>0.009932</td>\n",
              "      <td>-0.008190</td>\n",
              "      <td>0.010438</td>\n",
              "      <td>0.024975</td>\n",
              "      <td>-0.008474</td>\n",
              "      <td>0.003997</td>\n",
              "      <td>0.004308</td>\n",
              "      <td>-0.012432</td>\n",
              "    </tr>\n",
              "    <tr>\n",
              "      <th>2021-01-06</th>\n",
              "      <td>0.011387</td>\n",
              "      <td>-0.008907</td>\n",
              "      <td>0.017590</td>\n",
              "      <td>0.000246</td>\n",
              "      <td>-0.011990</td>\n",
              "      <td>0.018259</td>\n",
              "      <td>-0.009043</td>\n",
              "      <td>-0.026372</td>\n",
              "    </tr>\n",
              "    <tr>\n",
              "      <th>2021-01-07</th>\n",
              "      <td>0.006909</td>\n",
              "      <td>0.002060</td>\n",
              "      <td>-0.010243</td>\n",
              "      <td>0.000861</td>\n",
              "      <td>0.012652</td>\n",
              "      <td>0.004045</td>\n",
              "      <td>-0.015560</td>\n",
              "      <td>-0.001619</td>\n",
              "    </tr>\n",
              "    <tr>\n",
              "      <th>2021-01-08</th>\n",
              "      <td>0.007116</td>\n",
              "      <td>0.009155</td>\n",
              "      <td>0.001756</td>\n",
              "      <td>0.057652</td>\n",
              "      <td>0.020270</td>\n",
              "      <td>-0.012051</td>\n",
              "      <td>0.039575</td>\n",
              "      <td>0.011799</td>\n",
              "    </tr>\n",
              "    <tr>\n",
              "      <th>...</th>\n",
              "      <td>...</td>\n",
              "      <td>...</td>\n",
              "      <td>...</td>\n",
              "      <td>...</td>\n",
              "      <td>...</td>\n",
              "      <td>...</td>\n",
              "      <td>...</td>\n",
              "      <td>...</td>\n",
              "    </tr>\n",
              "    <tr>\n",
              "      <th>2021-12-27</th>\n",
              "      <td>0.007592</td>\n",
              "      <td>-0.003991</td>\n",
              "      <td>0.012240</td>\n",
              "      <td>0.001647</td>\n",
              "      <td>0.006046</td>\n",
              "      <td>0.002150</td>\n",
              "      <td>0.001422</td>\n",
              "      <td>-0.001075</td>\n",
              "    </tr>\n",
              "    <tr>\n",
              "      <th>2021-12-28</th>\n",
              "      <td>0.019208</td>\n",
              "      <td>0.001781</td>\n",
              "      <td>-0.000272</td>\n",
              "      <td>0.008362</td>\n",
              "      <td>0.016026</td>\n",
              "      <td>0.029201</td>\n",
              "      <td>0.011709</td>\n",
              "      <td>0.011876</td>\n",
              "    </tr>\n",
              "    <tr>\n",
              "      <th>2021-12-29</th>\n",
              "      <td>-0.008746</td>\n",
              "      <td>0.007378</td>\n",
              "      <td>-0.000136</td>\n",
              "      <td>-0.002481</td>\n",
              "      <td>0.001840</td>\n",
              "      <td>-0.016387</td>\n",
              "      <td>-0.001298</td>\n",
              "      <td>0.001709</td>\n",
              "    </tr>\n",
              "    <tr>\n",
              "      <th>2021-12-30</th>\n",
              "      <td>-0.011765</td>\n",
              "      <td>0.008736</td>\n",
              "      <td>0.000000</td>\n",
              "      <td>0.014779</td>\n",
              "      <td>-0.008266</td>\n",
              "      <td>-0.019250</td>\n",
              "      <td>0.003872</td>\n",
              "      <td>-0.018065</td>\n",
              "    </tr>\n",
              "    <tr>\n",
              "      <th>2021-12-31</th>\n",
              "      <td>0.025510</td>\n",
              "      <td>0.014872</td>\n",
              "      <td>0.006049</td>\n",
              "      <td>0.001750</td>\n",
              "      <td>0.019844</td>\n",
              "      <td>-0.001501</td>\n",
              "      <td>-0.002694</td>\n",
              "      <td>0.003836</td>\n",
              "    </tr>\n",
              "  </tbody>\n",
              "</table>\n",
              "<p>247 rows × 8 columns</p>\n",
              "</div>\n",
              "      <button class=\"colab-df-convert\" onclick=\"convertToInteractive('df-86589d5b-51ae-43f8-9ad9-da64ebe3a130')\"\n",
              "              title=\"Convert this dataframe to an interactive table.\"\n",
              "              style=\"display:none;\">\n",
              "        \n",
              "  <svg xmlns=\"http://www.w3.org/2000/svg\" height=\"24px\"viewBox=\"0 0 24 24\"\n",
              "       width=\"24px\">\n",
              "    <path d=\"M0 0h24v24H0V0z\" fill=\"none\"/>\n",
              "    <path d=\"M18.56 5.44l.94 2.06.94-2.06 2.06-.94-2.06-.94-.94-2.06-.94 2.06-2.06.94zm-11 1L8.5 8.5l.94-2.06 2.06-.94-2.06-.94L8.5 2.5l-.94 2.06-2.06.94zm10 10l.94 2.06.94-2.06 2.06-.94-2.06-.94-.94-2.06-.94 2.06-2.06.94z\"/><path d=\"M17.41 7.96l-1.37-1.37c-.4-.4-.92-.59-1.43-.59-.52 0-1.04.2-1.43.59L10.3 9.45l-7.72 7.72c-.78.78-.78 2.05 0 2.83L4 21.41c.39.39.9.59 1.41.59.51 0 1.02-.2 1.41-.59l7.78-7.78 2.81-2.81c.8-.78.8-2.07 0-2.86zM5.41 20L4 18.59l7.72-7.72 1.47 1.35L5.41 20z\"/>\n",
              "  </svg>\n",
              "      </button>\n",
              "      \n",
              "  <style>\n",
              "    .colab-df-container {\n",
              "      display:flex;\n",
              "      flex-wrap:wrap;\n",
              "      gap: 12px;\n",
              "    }\n",
              "\n",
              "    .colab-df-convert {\n",
              "      background-color: #E8F0FE;\n",
              "      border: none;\n",
              "      border-radius: 50%;\n",
              "      cursor: pointer;\n",
              "      display: none;\n",
              "      fill: #1967D2;\n",
              "      height: 32px;\n",
              "      padding: 0 0 0 0;\n",
              "      width: 32px;\n",
              "    }\n",
              "\n",
              "    .colab-df-convert:hover {\n",
              "      background-color: #E2EBFA;\n",
              "      box-shadow: 0px 1px 2px rgba(60, 64, 67, 0.3), 0px 1px 3px 1px rgba(60, 64, 67, 0.15);\n",
              "      fill: #174EA6;\n",
              "    }\n",
              "\n",
              "    [theme=dark] .colab-df-convert {\n",
              "      background-color: #3B4455;\n",
              "      fill: #D2E3FC;\n",
              "    }\n",
              "\n",
              "    [theme=dark] .colab-df-convert:hover {\n",
              "      background-color: #434B5C;\n",
              "      box-shadow: 0px 1px 3px 1px rgba(0, 0, 0, 0.15);\n",
              "      filter: drop-shadow(0px 1px 2px rgba(0, 0, 0, 0.3));\n",
              "      fill: #FFFFFF;\n",
              "    }\n",
              "  </style>\n",
              "\n",
              "      <script>\n",
              "        const buttonEl =\n",
              "          document.querySelector('#df-86589d5b-51ae-43f8-9ad9-da64ebe3a130 button.colab-df-convert');\n",
              "        buttonEl.style.display =\n",
              "          google.colab.kernel.accessAllowed ? 'block' : 'none';\n",
              "\n",
              "        async function convertToInteractive(key) {\n",
              "          const element = document.querySelector('#df-86589d5b-51ae-43f8-9ad9-da64ebe3a130');\n",
              "          const dataTable =\n",
              "            await google.colab.kernel.invokeFunction('convertToInteractive',\n",
              "                                                     [key], {});\n",
              "          if (!dataTable) return;\n",
              "\n",
              "          const docLinkHtml = 'Like what you see? Visit the ' +\n",
              "            '<a target=\"_blank\" href=https://colab.research.google.com/notebooks/data_table.ipynb>data table notebook</a>'\n",
              "            + ' to learn more about interactive tables.';\n",
              "          element.innerHTML = '';\n",
              "          dataTable['output_type'] = 'display_data';\n",
              "          await google.colab.output.renderOutput(dataTable, element);\n",
              "          const docLink = document.createElement('div');\n",
              "          docLink.innerHTML = docLinkHtml;\n",
              "          element.appendChild(docLink);\n",
              "        }\n",
              "      </script>\n",
              "    </div>\n",
              "  </div>\n",
              "  "
            ]
          },
          "metadata": {},
          "execution_count": 7
        }
      ]
    },
    {
      "cell_type": "code",
      "source": [
        "df = daily_simple_return.reset_index(drop=False)\n",
        "df"
      ],
      "metadata": {
        "colab": {
          "base_uri": "https://localhost:8080/",
          "height": 424
        },
        "id": "ICSheziCT5WA",
        "outputId": "a1a637a0-a0e8-4fae-ea5b-042858c5b52a"
      },
      "execution_count": null,
      "outputs": [
        {
          "output_type": "execute_result",
          "data": {
            "text/plain": [
              "           Date  TATAMOTORS     DABUR  ICICIBANK     WIPRO      BPCL  \\\n",
              "0    2021-01-04    0.025737  0.017128   0.007962  0.021386  0.035083   \n",
              "1    2021-01-05    0.009932 -0.008190   0.010438  0.024975 -0.008474   \n",
              "2    2021-01-06    0.011387 -0.008907   0.017590  0.000246 -0.011990   \n",
              "3    2021-01-07    0.006909  0.002060  -0.010243  0.000861  0.012652   \n",
              "4    2021-01-08    0.007116  0.009155   0.001756  0.057652  0.020270   \n",
              "..          ...         ...       ...        ...       ...       ...   \n",
              "242  2021-12-27    0.007592 -0.003991   0.012240  0.001647  0.006046   \n",
              "243  2021-12-28    0.019208  0.001781  -0.000272  0.008362  0.016026   \n",
              "244  2021-12-29   -0.008746  0.007378  -0.000136 -0.002481  0.001840   \n",
              "245  2021-12-30   -0.011765  0.008736   0.000000  0.014779 -0.008266   \n",
              "246  2021-12-31    0.025510  0.014872   0.006049  0.001750  0.019844   \n",
              "\n",
              "        IRCTC      INFY  RELIANCE  \n",
              "0    0.004187  0.022056  0.001686  \n",
              "1    0.003997  0.004308 -0.012432  \n",
              "2    0.018259 -0.009043 -0.026372  \n",
              "3    0.004045 -0.015560 -0.001619  \n",
              "4   -0.012051  0.039575  0.011799  \n",
              "..        ...       ...       ...  \n",
              "242  0.002150  0.001422 -0.001075  \n",
              "243  0.029201  0.011709  0.011876  \n",
              "244 -0.016387 -0.001298  0.001709  \n",
              "245 -0.019250  0.003872 -0.018065  \n",
              "246 -0.001501 -0.002694  0.003836  \n",
              "\n",
              "[247 rows x 9 columns]"
            ],
            "text/html": [
              "\n",
              "  <div id=\"df-68a95a0c-7a4e-4f3f-9233-c83ca302cf6b\">\n",
              "    <div class=\"colab-df-container\">\n",
              "      <div>\n",
              "<style scoped>\n",
              "    .dataframe tbody tr th:only-of-type {\n",
              "        vertical-align: middle;\n",
              "    }\n",
              "\n",
              "    .dataframe tbody tr th {\n",
              "        vertical-align: top;\n",
              "    }\n",
              "\n",
              "    .dataframe thead th {\n",
              "        text-align: right;\n",
              "    }\n",
              "</style>\n",
              "<table border=\"1\" class=\"dataframe\">\n",
              "  <thead>\n",
              "    <tr style=\"text-align: right;\">\n",
              "      <th></th>\n",
              "      <th>Date</th>\n",
              "      <th>TATAMOTORS</th>\n",
              "      <th>DABUR</th>\n",
              "      <th>ICICIBANK</th>\n",
              "      <th>WIPRO</th>\n",
              "      <th>BPCL</th>\n",
              "      <th>IRCTC</th>\n",
              "      <th>INFY</th>\n",
              "      <th>RELIANCE</th>\n",
              "    </tr>\n",
              "  </thead>\n",
              "  <tbody>\n",
              "    <tr>\n",
              "      <th>0</th>\n",
              "      <td>2021-01-04</td>\n",
              "      <td>0.025737</td>\n",
              "      <td>0.017128</td>\n",
              "      <td>0.007962</td>\n",
              "      <td>0.021386</td>\n",
              "      <td>0.035083</td>\n",
              "      <td>0.004187</td>\n",
              "      <td>0.022056</td>\n",
              "      <td>0.001686</td>\n",
              "    </tr>\n",
              "    <tr>\n",
              "      <th>1</th>\n",
              "      <td>2021-01-05</td>\n",
              "      <td>0.009932</td>\n",
              "      <td>-0.008190</td>\n",
              "      <td>0.010438</td>\n",
              "      <td>0.024975</td>\n",
              "      <td>-0.008474</td>\n",
              "      <td>0.003997</td>\n",
              "      <td>0.004308</td>\n",
              "      <td>-0.012432</td>\n",
              "    </tr>\n",
              "    <tr>\n",
              "      <th>2</th>\n",
              "      <td>2021-01-06</td>\n",
              "      <td>0.011387</td>\n",
              "      <td>-0.008907</td>\n",
              "      <td>0.017590</td>\n",
              "      <td>0.000246</td>\n",
              "      <td>-0.011990</td>\n",
              "      <td>0.018259</td>\n",
              "      <td>-0.009043</td>\n",
              "      <td>-0.026372</td>\n",
              "    </tr>\n",
              "    <tr>\n",
              "      <th>3</th>\n",
              "      <td>2021-01-07</td>\n",
              "      <td>0.006909</td>\n",
              "      <td>0.002060</td>\n",
              "      <td>-0.010243</td>\n",
              "      <td>0.000861</td>\n",
              "      <td>0.012652</td>\n",
              "      <td>0.004045</td>\n",
              "      <td>-0.015560</td>\n",
              "      <td>-0.001619</td>\n",
              "    </tr>\n",
              "    <tr>\n",
              "      <th>4</th>\n",
              "      <td>2021-01-08</td>\n",
              "      <td>0.007116</td>\n",
              "      <td>0.009155</td>\n",
              "      <td>0.001756</td>\n",
              "      <td>0.057652</td>\n",
              "      <td>0.020270</td>\n",
              "      <td>-0.012051</td>\n",
              "      <td>0.039575</td>\n",
              "      <td>0.011799</td>\n",
              "    </tr>\n",
              "    <tr>\n",
              "      <th>...</th>\n",
              "      <td>...</td>\n",
              "      <td>...</td>\n",
              "      <td>...</td>\n",
              "      <td>...</td>\n",
              "      <td>...</td>\n",
              "      <td>...</td>\n",
              "      <td>...</td>\n",
              "      <td>...</td>\n",
              "      <td>...</td>\n",
              "    </tr>\n",
              "    <tr>\n",
              "      <th>242</th>\n",
              "      <td>2021-12-27</td>\n",
              "      <td>0.007592</td>\n",
              "      <td>-0.003991</td>\n",
              "      <td>0.012240</td>\n",
              "      <td>0.001647</td>\n",
              "      <td>0.006046</td>\n",
              "      <td>0.002150</td>\n",
              "      <td>0.001422</td>\n",
              "      <td>-0.001075</td>\n",
              "    </tr>\n",
              "    <tr>\n",
              "      <th>243</th>\n",
              "      <td>2021-12-28</td>\n",
              "      <td>0.019208</td>\n",
              "      <td>0.001781</td>\n",
              "      <td>-0.000272</td>\n",
              "      <td>0.008362</td>\n",
              "      <td>0.016026</td>\n",
              "      <td>0.029201</td>\n",
              "      <td>0.011709</td>\n",
              "      <td>0.011876</td>\n",
              "    </tr>\n",
              "    <tr>\n",
              "      <th>244</th>\n",
              "      <td>2021-12-29</td>\n",
              "      <td>-0.008746</td>\n",
              "      <td>0.007378</td>\n",
              "      <td>-0.000136</td>\n",
              "      <td>-0.002481</td>\n",
              "      <td>0.001840</td>\n",
              "      <td>-0.016387</td>\n",
              "      <td>-0.001298</td>\n",
              "      <td>0.001709</td>\n",
              "    </tr>\n",
              "    <tr>\n",
              "      <th>245</th>\n",
              "      <td>2021-12-30</td>\n",
              "      <td>-0.011765</td>\n",
              "      <td>0.008736</td>\n",
              "      <td>0.000000</td>\n",
              "      <td>0.014779</td>\n",
              "      <td>-0.008266</td>\n",
              "      <td>-0.019250</td>\n",
              "      <td>0.003872</td>\n",
              "      <td>-0.018065</td>\n",
              "    </tr>\n",
              "    <tr>\n",
              "      <th>246</th>\n",
              "      <td>2021-12-31</td>\n",
              "      <td>0.025510</td>\n",
              "      <td>0.014872</td>\n",
              "      <td>0.006049</td>\n",
              "      <td>0.001750</td>\n",
              "      <td>0.019844</td>\n",
              "      <td>-0.001501</td>\n",
              "      <td>-0.002694</td>\n",
              "      <td>0.003836</td>\n",
              "    </tr>\n",
              "  </tbody>\n",
              "</table>\n",
              "<p>247 rows × 9 columns</p>\n",
              "</div>\n",
              "      <button class=\"colab-df-convert\" onclick=\"convertToInteractive('df-68a95a0c-7a4e-4f3f-9233-c83ca302cf6b')\"\n",
              "              title=\"Convert this dataframe to an interactive table.\"\n",
              "              style=\"display:none;\">\n",
              "        \n",
              "  <svg xmlns=\"http://www.w3.org/2000/svg\" height=\"24px\"viewBox=\"0 0 24 24\"\n",
              "       width=\"24px\">\n",
              "    <path d=\"M0 0h24v24H0V0z\" fill=\"none\"/>\n",
              "    <path d=\"M18.56 5.44l.94 2.06.94-2.06 2.06-.94-2.06-.94-.94-2.06-.94 2.06-2.06.94zm-11 1L8.5 8.5l.94-2.06 2.06-.94-2.06-.94L8.5 2.5l-.94 2.06-2.06.94zm10 10l.94 2.06.94-2.06 2.06-.94-2.06-.94-.94-2.06-.94 2.06-2.06.94z\"/><path d=\"M17.41 7.96l-1.37-1.37c-.4-.4-.92-.59-1.43-.59-.52 0-1.04.2-1.43.59L10.3 9.45l-7.72 7.72c-.78.78-.78 2.05 0 2.83L4 21.41c.39.39.9.59 1.41.59.51 0 1.02-.2 1.41-.59l7.78-7.78 2.81-2.81c.8-.78.8-2.07 0-2.86zM5.41 20L4 18.59l7.72-7.72 1.47 1.35L5.41 20z\"/>\n",
              "  </svg>\n",
              "      </button>\n",
              "      \n",
              "  <style>\n",
              "    .colab-df-container {\n",
              "      display:flex;\n",
              "      flex-wrap:wrap;\n",
              "      gap: 12px;\n",
              "    }\n",
              "\n",
              "    .colab-df-convert {\n",
              "      background-color: #E8F0FE;\n",
              "      border: none;\n",
              "      border-radius: 50%;\n",
              "      cursor: pointer;\n",
              "      display: none;\n",
              "      fill: #1967D2;\n",
              "      height: 32px;\n",
              "      padding: 0 0 0 0;\n",
              "      width: 32px;\n",
              "    }\n",
              "\n",
              "    .colab-df-convert:hover {\n",
              "      background-color: #E2EBFA;\n",
              "      box-shadow: 0px 1px 2px rgba(60, 64, 67, 0.3), 0px 1px 3px 1px rgba(60, 64, 67, 0.15);\n",
              "      fill: #174EA6;\n",
              "    }\n",
              "\n",
              "    [theme=dark] .colab-df-convert {\n",
              "      background-color: #3B4455;\n",
              "      fill: #D2E3FC;\n",
              "    }\n",
              "\n",
              "    [theme=dark] .colab-df-convert:hover {\n",
              "      background-color: #434B5C;\n",
              "      box-shadow: 0px 1px 3px 1px rgba(0, 0, 0, 0.15);\n",
              "      filter: drop-shadow(0px 1px 2px rgba(0, 0, 0, 0.3));\n",
              "      fill: #FFFFFF;\n",
              "    }\n",
              "  </style>\n",
              "\n",
              "      <script>\n",
              "        const buttonEl =\n",
              "          document.querySelector('#df-68a95a0c-7a4e-4f3f-9233-c83ca302cf6b button.colab-df-convert');\n",
              "        buttonEl.style.display =\n",
              "          google.colab.kernel.accessAllowed ? 'block' : 'none';\n",
              "\n",
              "        async function convertToInteractive(key) {\n",
              "          const element = document.querySelector('#df-68a95a0c-7a4e-4f3f-9233-c83ca302cf6b');\n",
              "          const dataTable =\n",
              "            await google.colab.kernel.invokeFunction('convertToInteractive',\n",
              "                                                     [key], {});\n",
              "          if (!dataTable) return;\n",
              "\n",
              "          const docLinkHtml = 'Like what you see? Visit the ' +\n",
              "            '<a target=\"_blank\" href=https://colab.research.google.com/notebooks/data_table.ipynb>data table notebook</a>'\n",
              "            + ' to learn more about interactive tables.';\n",
              "          element.innerHTML = '';\n",
              "          dataTable['output_type'] = 'display_data';\n",
              "          await google.colab.output.renderOutput(dataTable, element);\n",
              "          const docLink = document.createElement('div');\n",
              "          docLink.innerHTML = docLinkHtml;\n",
              "          element.appendChild(docLink);\n",
              "        }\n",
              "      </script>\n",
              "    </div>\n",
              "  </div>\n",
              "  "
            ]
          },
          "metadata": {},
          "execution_count": 23
        }
      ]
    },
    {
      "cell_type": "code",
      "source": [],
      "metadata": {
        "id": "ws6STxvJUfdq"
      },
      "execution_count": null,
      "outputs": []
    },
    {
      "cell_type": "code",
      "source": [
        "correlation_matrix = data.corr(method='pearson')\n",
        "correlation_matrix"
      ],
      "metadata": {
        "colab": {
          "base_uri": "https://localhost:8080/",
          "height": 300
        },
        "id": "K-S7LNVUOBTf",
        "outputId": "d566410b-b1a8-44b4-e771-8050eb66e2e4"
      },
      "execution_count": null,
      "outputs": [
        {
          "output_type": "execute_result",
          "data": {
            "text/plain": [
              "            TATAMOTORS     DABUR  ICICIBANK     WIPRO      BPCL     IRCTC  \\\n",
              "TATAMOTORS    1.000000  0.118445   0.335963  0.269425  0.395110  0.203021   \n",
              "DABUR         0.118445  1.000000   0.054768  0.166188  0.189300  0.077711   \n",
              "ICICIBANK     0.335963  0.054768   1.000000  0.195745  0.177764  0.194784   \n",
              "WIPRO         0.269425  0.166188   0.195745  1.000000  0.282868  0.184089   \n",
              "BPCL          0.395110  0.189300   0.177764  0.282868  1.000000  0.216756   \n",
              "IRCTC         0.203021  0.077711   0.194784  0.184089  0.216756  1.000000   \n",
              "INFY          0.250439  0.266551   0.233710  0.613135  0.221866  0.138491   \n",
              "RELIANCE      0.328486  0.158437   0.308002  0.218253  0.310686  0.186932   \n",
              "\n",
              "                INFY  RELIANCE  \n",
              "TATAMOTORS  0.250439  0.328486  \n",
              "DABUR       0.266551  0.158437  \n",
              "ICICIBANK   0.233710  0.308002  \n",
              "WIPRO       0.613135  0.218253  \n",
              "BPCL        0.221866  0.310686  \n",
              "IRCTC       0.138491  0.186932  \n",
              "INFY        1.000000  0.278080  \n",
              "RELIANCE    0.278080  1.000000  "
            ],
            "text/html": [
              "\n",
              "  <div id=\"df-c35b4097-c703-4591-bcd3-6c6d6dd935e7\">\n",
              "    <div class=\"colab-df-container\">\n",
              "      <div>\n",
              "<style scoped>\n",
              "    .dataframe tbody tr th:only-of-type {\n",
              "        vertical-align: middle;\n",
              "    }\n",
              "\n",
              "    .dataframe tbody tr th {\n",
              "        vertical-align: top;\n",
              "    }\n",
              "\n",
              "    .dataframe thead th {\n",
              "        text-align: right;\n",
              "    }\n",
              "</style>\n",
              "<table border=\"1\" class=\"dataframe\">\n",
              "  <thead>\n",
              "    <tr style=\"text-align: right;\">\n",
              "      <th></th>\n",
              "      <th>TATAMOTORS</th>\n",
              "      <th>DABUR</th>\n",
              "      <th>ICICIBANK</th>\n",
              "      <th>WIPRO</th>\n",
              "      <th>BPCL</th>\n",
              "      <th>IRCTC</th>\n",
              "      <th>INFY</th>\n",
              "      <th>RELIANCE</th>\n",
              "    </tr>\n",
              "  </thead>\n",
              "  <tbody>\n",
              "    <tr>\n",
              "      <th>TATAMOTORS</th>\n",
              "      <td>1.000000</td>\n",
              "      <td>0.118445</td>\n",
              "      <td>0.335963</td>\n",
              "      <td>0.269425</td>\n",
              "      <td>0.395110</td>\n",
              "      <td>0.203021</td>\n",
              "      <td>0.250439</td>\n",
              "      <td>0.328486</td>\n",
              "    </tr>\n",
              "    <tr>\n",
              "      <th>DABUR</th>\n",
              "      <td>0.118445</td>\n",
              "      <td>1.000000</td>\n",
              "      <td>0.054768</td>\n",
              "      <td>0.166188</td>\n",
              "      <td>0.189300</td>\n",
              "      <td>0.077711</td>\n",
              "      <td>0.266551</td>\n",
              "      <td>0.158437</td>\n",
              "    </tr>\n",
              "    <tr>\n",
              "      <th>ICICIBANK</th>\n",
              "      <td>0.335963</td>\n",
              "      <td>0.054768</td>\n",
              "      <td>1.000000</td>\n",
              "      <td>0.195745</td>\n",
              "      <td>0.177764</td>\n",
              "      <td>0.194784</td>\n",
              "      <td>0.233710</td>\n",
              "      <td>0.308002</td>\n",
              "    </tr>\n",
              "    <tr>\n",
              "      <th>WIPRO</th>\n",
              "      <td>0.269425</td>\n",
              "      <td>0.166188</td>\n",
              "      <td>0.195745</td>\n",
              "      <td>1.000000</td>\n",
              "      <td>0.282868</td>\n",
              "      <td>0.184089</td>\n",
              "      <td>0.613135</td>\n",
              "      <td>0.218253</td>\n",
              "    </tr>\n",
              "    <tr>\n",
              "      <th>BPCL</th>\n",
              "      <td>0.395110</td>\n",
              "      <td>0.189300</td>\n",
              "      <td>0.177764</td>\n",
              "      <td>0.282868</td>\n",
              "      <td>1.000000</td>\n",
              "      <td>0.216756</td>\n",
              "      <td>0.221866</td>\n",
              "      <td>0.310686</td>\n",
              "    </tr>\n",
              "    <tr>\n",
              "      <th>IRCTC</th>\n",
              "      <td>0.203021</td>\n",
              "      <td>0.077711</td>\n",
              "      <td>0.194784</td>\n",
              "      <td>0.184089</td>\n",
              "      <td>0.216756</td>\n",
              "      <td>1.000000</td>\n",
              "      <td>0.138491</td>\n",
              "      <td>0.186932</td>\n",
              "    </tr>\n",
              "    <tr>\n",
              "      <th>INFY</th>\n",
              "      <td>0.250439</td>\n",
              "      <td>0.266551</td>\n",
              "      <td>0.233710</td>\n",
              "      <td>0.613135</td>\n",
              "      <td>0.221866</td>\n",
              "      <td>0.138491</td>\n",
              "      <td>1.000000</td>\n",
              "      <td>0.278080</td>\n",
              "    </tr>\n",
              "    <tr>\n",
              "      <th>RELIANCE</th>\n",
              "      <td>0.328486</td>\n",
              "      <td>0.158437</td>\n",
              "      <td>0.308002</td>\n",
              "      <td>0.218253</td>\n",
              "      <td>0.310686</td>\n",
              "      <td>0.186932</td>\n",
              "      <td>0.278080</td>\n",
              "      <td>1.000000</td>\n",
              "    </tr>\n",
              "  </tbody>\n",
              "</table>\n",
              "</div>\n",
              "      <button class=\"colab-df-convert\" onclick=\"convertToInteractive('df-c35b4097-c703-4591-bcd3-6c6d6dd935e7')\"\n",
              "              title=\"Convert this dataframe to an interactive table.\"\n",
              "              style=\"display:none;\">\n",
              "        \n",
              "  <svg xmlns=\"http://www.w3.org/2000/svg\" height=\"24px\"viewBox=\"0 0 24 24\"\n",
              "       width=\"24px\">\n",
              "    <path d=\"M0 0h24v24H0V0z\" fill=\"none\"/>\n",
              "    <path d=\"M18.56 5.44l.94 2.06.94-2.06 2.06-.94-2.06-.94-.94-2.06-.94 2.06-2.06.94zm-11 1L8.5 8.5l.94-2.06 2.06-.94-2.06-.94L8.5 2.5l-.94 2.06-2.06.94zm10 10l.94 2.06.94-2.06 2.06-.94-2.06-.94-.94-2.06-.94 2.06-2.06.94z\"/><path d=\"M17.41 7.96l-1.37-1.37c-.4-.4-.92-.59-1.43-.59-.52 0-1.04.2-1.43.59L10.3 9.45l-7.72 7.72c-.78.78-.78 2.05 0 2.83L4 21.41c.39.39.9.59 1.41.59.51 0 1.02-.2 1.41-.59l7.78-7.78 2.81-2.81c.8-.78.8-2.07 0-2.86zM5.41 20L4 18.59l7.72-7.72 1.47 1.35L5.41 20z\"/>\n",
              "  </svg>\n",
              "      </button>\n",
              "      \n",
              "  <style>\n",
              "    .colab-df-container {\n",
              "      display:flex;\n",
              "      flex-wrap:wrap;\n",
              "      gap: 12px;\n",
              "    }\n",
              "\n",
              "    .colab-df-convert {\n",
              "      background-color: #E8F0FE;\n",
              "      border: none;\n",
              "      border-radius: 50%;\n",
              "      cursor: pointer;\n",
              "      display: none;\n",
              "      fill: #1967D2;\n",
              "      height: 32px;\n",
              "      padding: 0 0 0 0;\n",
              "      width: 32px;\n",
              "    }\n",
              "\n",
              "    .colab-df-convert:hover {\n",
              "      background-color: #E2EBFA;\n",
              "      box-shadow: 0px 1px 2px rgba(60, 64, 67, 0.3), 0px 1px 3px 1px rgba(60, 64, 67, 0.15);\n",
              "      fill: #174EA6;\n",
              "    }\n",
              "\n",
              "    [theme=dark] .colab-df-convert {\n",
              "      background-color: #3B4455;\n",
              "      fill: #D2E3FC;\n",
              "    }\n",
              "\n",
              "    [theme=dark] .colab-df-convert:hover {\n",
              "      background-color: #434B5C;\n",
              "      box-shadow: 0px 1px 3px 1px rgba(0, 0, 0, 0.15);\n",
              "      filter: drop-shadow(0px 1px 2px rgba(0, 0, 0, 0.3));\n",
              "      fill: #FFFFFF;\n",
              "    }\n",
              "  </style>\n",
              "\n",
              "      <script>\n",
              "        const buttonEl =\n",
              "          document.querySelector('#df-c35b4097-c703-4591-bcd3-6c6d6dd935e7 button.colab-df-convert');\n",
              "        buttonEl.style.display =\n",
              "          google.colab.kernel.accessAllowed ? 'block' : 'none';\n",
              "\n",
              "        async function convertToInteractive(key) {\n",
              "          const element = document.querySelector('#df-c35b4097-c703-4591-bcd3-6c6d6dd935e7');\n",
              "          const dataTable =\n",
              "            await google.colab.kernel.invokeFunction('convertToInteractive',\n",
              "                                                     [key], {});\n",
              "          if (!dataTable) return;\n",
              "\n",
              "          const docLinkHtml = 'Like what you see? Visit the ' +\n",
              "            '<a target=\"_blank\" href=https://colab.research.google.com/notebooks/data_table.ipynb>data table notebook</a>'\n",
              "            + ' to learn more about interactive tables.';\n",
              "          element.innerHTML = '';\n",
              "          dataTable['output_type'] = 'display_data';\n",
              "          await google.colab.output.renderOutput(dataTable, element);\n",
              "          const docLink = document.createElement('div');\n",
              "          docLink.innerHTML = docLinkHtml;\n",
              "          element.appendChild(docLink);\n",
              "        }\n",
              "      </script>\n",
              "    </div>\n",
              "  </div>\n",
              "  "
            ]
          },
          "metadata": {},
          "execution_count": 8
        }
      ]
    },
    {
      "cell_type": "code",
      "source": [
        "r_means = np.array(data.mean())"
      ],
      "metadata": {
        "id": "wUjGL3-5Mhm8"
      },
      "execution_count": null,
      "outputs": []
    },
    {
      "cell_type": "code",
      "source": [
        "print('Average Daily returns(%)')\n",
        "Avg_daily = daily_simple_return.mean()\n",
        "print(Avg_daily*100)\n"
      ],
      "metadata": {
        "colab": {
          "base_uri": "https://localhost:8080/"
        },
        "id": "aPYYQfp-Fvzw",
        "outputId": "1fd702b0-47de-4b0d-d025-f68448ef4994"
      },
      "execution_count": null,
      "outputs": [
        {
          "output_type": "stream",
          "name": "stdout",
          "text": [
            "Average Daily returns(%)\n",
            "TATAMOTORS    0.435048\n",
            "DABUR         0.039888\n",
            "ICICIBANK     0.156014\n",
            "WIPRO         0.263181\n",
            "BPCL          0.019400\n",
            "IRCTC         0.121660\n",
            "INFY          0.172252\n",
            "RELIANCE      0.084217\n",
            "dtype: float64\n"
          ]
        }
      ]
    },
    {
      "cell_type": "code",
      "source": [
        "month_1.mean(axis=0).values"
      ],
      "metadata": {
        "colab": {
          "base_uri": "https://localhost:8080/"
        },
        "id": "GVridl_4Vg6h",
        "outputId": "2c9784ba-5b7c-4529-fa97-b3f873c0797f"
      },
      "execution_count": null,
      "outputs": [
        {
          "output_type": "execute_result",
          "data": {
            "text/plain": [
              "array([ 0.01905456, -0.00190461,  0.00106623,  0.00420823,  0.00040719,\n",
              "        0.00045661, -0.00069285, -0.00377012])"
            ]
          },
          "metadata": {},
          "execution_count": 38
        }
      ]
    },
    {
      "cell_type": "markdown",
      "source": [
        "#Method 1"
      ],
      "metadata": {
        "id": "j2-LzoWhPibI"
      }
    },
    {
      "cell_type": "markdown",
      "source": [
        "##Quadratic programming(GP)\n",
        "$$\n",
        "min \\sum_{1=1}^{n} \\sum_{i=1}^{n} \\sigma_{ij}x_{i}x_{j} \\\\\n",
        "s.t. \\sum_{j=1}^{n} r_{j}x_{j} \\geq \\alpha B \\\\\n",
        "\\sum_{j=1}^{n} x_{j} = B \\\\\n",
        "0 \\leq x_{j} \\leq u_{j}, j=1,...,n\n",
        "$$\n",
        "where $\\sigma_{ij} = (\\frac{1}{T}) \\sum_{t=1}^{T} (r_{it} - r_{i})(r_{jt}-r_{j})$\n",
        "\n",
        "$r_{jt}$ is the per krona return invested in security j over period t \\\\\n",
        "$r_{j}$ is the average return in security j over the entired period T \\\\\n",
        "$x_{j}$ is the portfolio allowcation of security j should nor exceed an upper bound $u_{j}$ \\\\\n",
        "$\\alpha$ is the minimum (expected) return required by a particular investor \\\\\n",
        "$B$ is the total budget that is invested in portfolio\n",
        "\n"
      ],
      "metadata": {
        "id": "lfBX_UPkPoNU"
      }
    },
    {
      "cell_type": "code",
      "source": [
        "r_means = np.array(df.mean())\n",
        "# r_means = np.array(daily_simple_return.meam())\n",
        "sigma = np.array(correlation_matrix)\n",
        "x = Variable(8)\n",
        "alpha = 0.05  \n",
        "B = 1\n",
        "u = np.ones(8) \n",
        "\n",
        "obj = cp.Minimize(cp.quad_form(x, sigma))\n",
        "\n",
        "constraints = [sum(x) == B,\n",
        "               sum(np.multiply(r_means, x)) >= alpha * B,\n",
        "               x >= 0,\n",
        "               x <= u]\n",
        "\n",
        "prob = cp.Problem(obj, constraints)\n",
        "prob.solve()"
      ],
      "metadata": {
        "colab": {
          "base_uri": "https://localhost:8080/"
        },
        "id": "k-vSDjUaGC_p",
        "outputId": "bdbcf451-6ea8-4b3f-ce90-09af42fc1668"
      },
      "execution_count": null,
      "outputs": [
        {
          "output_type": "execute_result",
          "data": {
            "text/plain": [
              "0.3141394902797097"
            ]
          },
          "metadata": {},
          "execution_count": 11
        }
      ]
    },
    {
      "cell_type": "code",
      "source": [
        "print(\"Optimal value: \", prob.value)\n",
        "print(\"Portfolio allocations: \", x.value)"
      ],
      "metadata": {
        "colab": {
          "base_uri": "https://localhost:8080/"
        },
        "id": "J5-MPsXOGx8y",
        "outputId": "6eb76d3b-65e2-436b-ab72-cfc66f345fa3"
      },
      "execution_count": null,
      "outputs": [
        {
          "output_type": "stream",
          "name": "stdout",
          "text": [
            "Optimal value:  0.3141394902797097\n",
            "Portfolio allocations:  [0.08410004 0.21330689 0.15553532 0.10515448 0.09911351 0.18226571\n",
            " 0.06029163 0.10023242]\n"
          ]
        }
      ]
    },
    {
      "cell_type": "code",
      "source": [
        "result = [4.35443827e-01,  4.06022563e-02,  2.93289959e-19,  9.07540979e-20, 3.54038602e-01,  1.69915314e-01,  5.28340215e-20, -1.08803255e-19]"
      ],
      "metadata": {
        "id": "YA7_ENwBG9WJ"
      },
      "execution_count": null,
      "outputs": []
    },
    {
      "cell_type": "code",
      "source": [
        "results = []\n",
        "for i in range(8):\n",
        "  res = result[i]\n",
        "  res = np.round(res, 4)\n",
        "  results.append(res)"
      ],
      "metadata": {
        "id": "EfWL4B8IJNwk"
      },
      "execution_count": null,
      "outputs": []
    },
    {
      "cell_type": "code",
      "source": [
        "results"
      ],
      "metadata": {
        "colab": {
          "base_uri": "https://localhost:8080/"
        },
        "id": "48QuE__-Kfil",
        "outputId": "4a381536-357b-4306-cfee-8c3391b861cc"
      },
      "execution_count": null,
      "outputs": [
        {
          "output_type": "execute_result",
          "data": {
            "text/plain": [
              "[0.4354, 0.0406, 0.0, 0.0, 0.354, 0.1699, 0.0, -0.0]"
            ]
          },
          "metadata": {},
          "execution_count": 46
        }
      ]
    },
    {
      "cell_type": "markdown",
      "source": [
        "---"
      ],
      "metadata": {
        "id": "M_rZtF7_HEnI"
      }
    },
    {
      "cell_type": "code",
      "source": [
        "r_means = np.array(df.mean())\n",
        "sigma = np.array(correlation_matrix)\n",
        "x = Variable(8)\n",
        "#f_x = sum([sigma[i,j] * x[i] * x[j] for i, j in idx])\n",
        "alpha = 1.25  \n",
        "B = 1\n",
        "u = np.ones(8) \n",
        "\n",
        "obj = cp.Minimize(cp.quad_form(x, sigma))\n",
        "\n",
        "constraints = [sum(x) == B,\n",
        "               sum(np.multiply(r_means, x)) >= alpha * B,\n",
        "               x >= 0,\n",
        "               x <= u]\n",
        "\n",
        "prob = cp.Problem(obj, constraints)\n",
        "prob.solve()"
      ],
      "metadata": {
        "id": "kzO8D0AlK3BN",
        "colab": {
          "base_uri": "https://localhost:8080/"
        },
        "outputId": "711b9e13-a993-4ad0-c020-93c613a9c660"
      },
      "execution_count": null,
      "outputs": [
        {
          "output_type": "execute_result",
          "data": {
            "text/plain": [
              "0.31741238585746473"
            ]
          },
          "metadata": {},
          "execution_count": 13
        }
      ]
    },
    {
      "cell_type": "code",
      "source": [
        "print(\"Optimal value: \", prob.value)\n",
        "print(\"Portfolio allocations: \", x.value)"
      ],
      "metadata": {
        "colab": {
          "base_uri": "https://localhost:8080/"
        },
        "id": "0VFL2m82HNR6",
        "outputId": "34d0aa45-70ca-461f-fb35-d409df7b0e31"
      },
      "execution_count": null,
      "outputs": [
        {
          "output_type": "stream",
          "name": "stdout",
          "text": [
            "Optimal value:  0.31741238585746473\n",
            "Portfolio allocations:  [ 4.35443827e-01  4.06022563e-02  2.93289959e-19  9.07540979e-20\n",
            "  3.54038602e-01  1.69915314e-01  5.28340215e-20 -1.08803255e-19]\n"
          ]
        }
      ]
    },
    {
      "cell_type": "code",
      "source": [],
      "metadata": {
        "id": "LPckyTBQHSY0"
      },
      "execution_count": null,
      "outputs": []
    },
    {
      "cell_type": "markdown",
      "source": [
        "#Method 2"
      ],
      "metadata": {
        "id": "j7_AIGlQLigx"
      }
    },
    {
      "cell_type": "markdown",
      "source": [
        "##Maximin formulation \n",
        "(to maximize the minimum return)\n",
        "\n",
        "$\\sum_{j=1}^{n} r_{jt}x_{j} \\geq z$ \\\\\n",
        "$z$ is defined as the minimum return for every period \\\\\n",
        "\n",
        "$$\n",
        "\\max z \\\\\n",
        "\\text{s.t.} \\sum_{j=1}^{n} r_{j}x_{j} \\geq \\alpha B \\\\\n",
        "\\sum_{j=1}^{n} x_{j} = B \\\\\n",
        "\\sum_{j=1}^{n} r_{jt}x_{j} \\geq z \\\\\n",
        "0 \\leq x_{j} \\leq u_{j}, j=1,...,n , z \\geq 0\n",
        "$$\n",
        "\n",
        "\n"
      ],
      "metadata": {
        "id": "be4YCbv8P-KL"
      }
    },
    {
      "cell_type": "code",
      "source": [
        "# returns = np.array(df) \n",
        "z = Variable()\n",
        "alpha = 1.25\n",
        "obj = cp.Maximize(z)\n",
        "\n",
        "constraints = [sum(x) == B,\n",
        "               sum(np.multiply(r_means, x)) >= alpha * B,\n",
        "               x >= 0,\n",
        "               x <= u, \n",
        "               z >= 0, \n",
        "               sum(np.multiply(returns, x)) >= z]\n",
        "\n",
        "prob = cp.Problem(obj, constraints)\n",
        "prob.solve()"
      ],
      "metadata": {
        "colab": {
          "base_uri": "https://localhost:8080/"
        },
        "id": "bYqp2I9DHYAN",
        "outputId": "9db3a909-143a-4a8f-b608-3dfb3f7beb69"
      },
      "execution_count": null,
      "outputs": [
        {
          "output_type": "execute_result",
          "data": {
            "text/plain": [
              "1.07456842799865"
            ]
          },
          "metadata": {},
          "execution_count": 22
        }
      ]
    },
    {
      "cell_type": "code",
      "source": [
        "print(\"Optimal value: \", prob.value)\n",
        "print(\"Portfolio allocations: \", x.value)"
      ],
      "metadata": {
        "colab": {
          "base_uri": "https://localhost:8080/"
        },
        "id": "F_R-T4rWHr9n",
        "outputId": "bf3b7a98-3649-41cc-dcaa-955ee894c088"
      },
      "execution_count": null,
      "outputs": [
        {
          "output_type": "stream",
          "name": "stdout",
          "text": [
            "Optimal value:  1.07456842799865\n",
            "Portfolio allocations:  [1.00000000e+00 2.44561428e-12 7.08138098e-12 2.12815902e-11\n",
            " 7.90627432e-13 1.35760733e-11 1.78807732e-11 1.08649381e-11]\n"
          ]
        }
      ]
    },
    {
      "cell_type": "code",
      "source": [
        "result = [1.00000000e+00 ,2.44561428e-12 ,7.08138098e-12, 2.12815902e-11 ,7.90627432e-13 ,1.35760733e-11 ,1.78807732e-11, 1.08649381e-11]\n",
        "results = []\n",
        "for i in range(8):\n",
        "  res = result[i] * 100\n",
        "  res = np.round(res, 2)\n",
        "  results.append(res)\n",
        "results"
      ],
      "metadata": {
        "colab": {
          "base_uri": "https://localhost:8080/"
        },
        "id": "9nJo0o9AjbTN",
        "outputId": "bf41b850-5d8d-4afe-b190-ea55b1fc56f0"
      },
      "execution_count": null,
      "outputs": [
        {
          "output_type": "execute_result",
          "data": {
            "text/plain": [
              "[100.0, 0.0, 0.0, 0.0, 0.0, 0.0, 0.0, 0.0]"
            ]
          },
          "metadata": {},
          "execution_count": 35
        }
      ]
    },
    {
      "cell_type": "markdown",
      "source": [
        "#Method 3"
      ],
      "metadata": {
        "id": "d9fx3pSML_cu"
      }
    },
    {
      "cell_type": "markdown",
      "source": [
        "##Mean absolute deviation minimization (MAD)\n",
        "$$\n",
        "\\min \\frac{1}{T} \\sum_{t=1}^{T} y_{t}\n",
        "$$\n",
        "\n",
        "$$ \n",
        "\\text{s.t.} \\quad y_{t} \\geq -\\sum_{j=1}^{n} (r_{jt}-r_{j}) \\\\\n",
        "y_{t} \\leq \\sum_{j=1}^{n} (r_{jt}-r_{j}) \\\\\n",
        "\\sum_{j=1}^{n} r_{j}x_{j} \\geq \\alpha B \\\\\n",
        "\\sum_{j=1}^{n} x_{j} = B \\\\\n",
        "0 \\leq x_{j} \\leq u_{j}, j=1,...,n\n",
        "$$"
      ],
      "metadata": {
        "id": "mu-UowBtQDgU"
      }
    },
    {
      "cell_type": "code",
      "source": [
        "y = Variable(8)\n",
        "x = Variable(8)\n",
        "r_means = np.array(df.mean())\n",
        "returns = np.array(df)\n",
        "\n",
        "f = sum(y) / 12\n",
        "obj = cp.Minimize(f)\n",
        "\n",
        "constraints = [sum(x) == B,\n",
        "               sum(np.multiply(r_means, x)) >= alpha * B,\n",
        "               x >= 0,\n",
        "               x <= u,\n",
        "               y >= 0,\n",
        "               y >= -sum(np.multiply(returns - r_means, x)),\n",
        "               y >= sum(np.multiply(returns - r_means, x))]\n",
        "\n",
        "prob = cp.Problem(obj, constraints)\n",
        "prob.solve()"
      ],
      "metadata": {
        "id": "gNL3EAUnMYqT",
        "colab": {
          "base_uri": "https://localhost:8080/"
        },
        "outputId": "b593b683-f7a6-4622-cfea-57bc32e49a99"
      },
      "execution_count": null,
      "outputs": [
        {
          "output_type": "execute_result",
          "data": {
            "text/plain": [
              "6.858717428764167e-11"
            ]
          },
          "metadata": {},
          "execution_count": 15
        }
      ]
    },
    {
      "cell_type": "code",
      "source": [
        "print(\"Optimal value: \", prob.value)\n",
        "print(\"Portfolio allocations: \", x.value)"
      ],
      "metadata": {
        "colab": {
          "base_uri": "https://localhost:8080/"
        },
        "id": "HGLpc3DNOmdn",
        "outputId": "99c3e8ba-012a-425c-e254-312c0d0b6e40"
      },
      "execution_count": null,
      "outputs": [
        {
          "output_type": "stream",
          "name": "stdout",
          "text": [
            "Optimal value:  6.858717428764167e-11\n",
            "Portfolio allocations:  [0.2893467  0.14446646 0.11902918 0.15004121 0.20756373 0.02613803\n",
            " 0.03971053 0.02370416]\n"
          ]
        }
      ]
    },
    {
      "cell_type": "code",
      "source": [
        "result = [-4.49281554e-10, -2.15752404e-10, -1.50307418e-10, -2.30149517e-10, -3.48826826e-10,  4.36038351e-09,  9.79517216e-10,  9.99999996e-01]"
      ],
      "metadata": {
        "id": "yXex3A1XOmtc"
      },
      "execution_count": null,
      "outputs": []
    },
    {
      "cell_type": "code",
      "source": [
        "results = []\n",
        "for i in range(8):\n",
        "  res = result[i]\n",
        "  res = np.round(res, 4)\n",
        "  results.append(res)"
      ],
      "metadata": {
        "id": "jIBUOfBxOuC7"
      },
      "execution_count": null,
      "outputs": []
    },
    {
      "cell_type": "code",
      "source": [
        "results"
      ],
      "metadata": {
        "colab": {
          "base_uri": "https://localhost:8080/"
        },
        "id": "walRPAxoOv-l",
        "outputId": "8dc47231-2c6a-4fa7-ed19-9bda81aa33bf"
      },
      "execution_count": null,
      "outputs": [
        {
          "output_type": "execute_result",
          "data": {
            "text/plain": [
              "[-0.0, -0.0, -0.0, -0.0, -0.0, 0.0, 0.0, 1.0]"
            ]
          },
          "metadata": {},
          "execution_count": 63
        }
      ]
    },
    {
      "cell_type": "code",
      "source": [],
      "metadata": {
        "id": "Mb3N-JE8OxeO"
      },
      "execution_count": null,
      "outputs": []
    },
    {
      "cell_type": "markdown",
      "source": [
        "---"
      ],
      "metadata": {
        "id": "LqwYv1kWSDd2"
      }
    },
    {
      "cell_type": "code",
      "source": [],
      "metadata": {
        "id": "xcEK2c2VYy0R"
      },
      "execution_count": null,
      "outputs": []
    },
    {
      "cell_type": "code",
      "source": [
        "y = Variable(8)\n",
        "x = Variable(8)\n",
        "r_means = np.array(df.mean())\n",
        "returns = np.array(df)\n",
        "alpha = 5\n",
        "f = abs(sum(y)) / 12\n",
        "obj = cp.Minimize(f)\n",
        "\n",
        "constraints = [sum(x) == B,\n",
        "               sum(np.multiply(r_means, x)) >= alpha * B,\n",
        "               x >= 0,\n",
        "               x <= u,\n",
        "               y >= 0,\n",
        "               y >= -sum(np.multiply(returns - r_means, x)),\n",
        "               y >= sum(np.multiply(returns - r_means, x)),\n",
        "               ]\n",
        "\n",
        "prob = cp.Problem(obj, constraints)\n",
        "prob.solve()"
      ],
      "metadata": {
        "colab": {
          "base_uri": "https://localhost:8080/"
        },
        "id": "PsZskFrhSD5S",
        "outputId": "52fff69d-7f25-4bd3-a643-b43b0b97d88d"
      },
      "execution_count": null,
      "outputs": [
        {
          "output_type": "execute_result",
          "data": {
            "text/plain": [
              "1.3192074394774786e-10"
            ]
          },
          "metadata": {},
          "execution_count": 42
        }
      ]
    },
    {
      "cell_type": "code",
      "source": [
        "print(\"Optimal value: \", prob.value)\n",
        "print(\"Portfolio allocations: \", x.value)"
      ],
      "metadata": {
        "colab": {
          "base_uri": "https://localhost:8080/"
        },
        "id": "Ouj1Woo0SIf-",
        "outputId": "13cb2e19-aa3c-4285-e5ed-2dda45c36b60"
      },
      "execution_count": null,
      "outputs": [
        {
          "output_type": "stream",
          "name": "stdout",
          "text": [
            "Optimal value:  1.3192074394774786e-10\n",
            "Portfolio allocations:  [0.2504487  0.1443145  0.12345039 0.14884554 0.1940385  0.04279158\n",
            " 0.05565803 0.04045276]\n"
          ]
        }
      ]
    },
    {
      "cell_type": "code",
      "source": [
        "Optimal value:  6.737711260546252e-11\n",
        "Portfolio allocations:  [0.28887725 0.14461806 0.11920454 0.15018386 0.20753573 0.02613318\n",
        " 0.03975216 0.02369523]"
      ],
      "metadata": {
        "id": "6sIiuP6pSLRz"
      },
      "execution_count": null,
      "outputs": []
    },
    {
      "cell_type": "code",
      "source": [
        "ll = \n",
        "collect = []\n",
        "for i in ll:\n",
        "  col = ll[i] * 100\n",
        "  collect.append(col)"
      ],
      "metadata": {
        "id": "xxUuCgRZZICL"
      },
      "execution_count": null,
      "outputs": []
    },
    {
      "cell_type": "markdown",
      "source": [
        "#Res01"
      ],
      "metadata": {
        "id": "OlfJtVgkZ89X"
      }
    },
    {
      "cell_type": "code",
      "source": [
        "result = [0.08410004, 0.21330689, 0.15553532, 0.10515448, 0.09911351, 0.18226571, 0.06029163, 0.10023242]\n",
        "results = []\n",
        "for i in range(8):\n",
        "  res = result[i] * 100\n",
        "  res = np.round(res, 2)\n",
        "  results.append(res)\n",
        "results"
      ],
      "metadata": {
        "colab": {
          "base_uri": "https://localhost:8080/"
        },
        "id": "729vtk2jaHnr",
        "outputId": "1fbdc4bb-2835-478f-bf9c-86bb0811f110"
      },
      "execution_count": null,
      "outputs": [
        {
          "output_type": "execute_result",
          "data": {
            "text/plain": [
              "[8.41, 21.33, 15.55, 10.52, 9.91, 18.23, 6.03, 10.02]"
            ]
          },
          "metadata": {},
          "execution_count": 50
        }
      ]
    },
    {
      "cell_type": "code",
      "source": [
        "sum(results)"
      ],
      "metadata": {
        "colab": {
          "base_uri": "https://localhost:8080/"
        },
        "id": "tTyzQA8paTny",
        "outputId": "42f5e76b-0a2b-47f9-8004-4177648fb869"
      },
      "execution_count": null,
      "outputs": [
        {
          "output_type": "execute_result",
          "data": {
            "text/plain": [
              "100.0"
            ]
          },
          "metadata": {},
          "execution_count": 51
        }
      ]
    },
    {
      "cell_type": "code",
      "source": [],
      "metadata": {
        "id": "OBJNmzF9ac-1"
      },
      "execution_count": null,
      "outputs": []
    },
    {
      "cell_type": "markdown",
      "source": [
        "#Res03"
      ],
      "metadata": {
        "id": "rOiyMafnZ7am"
      }
    },
    {
      "cell_type": "code",
      "source": [
        "result = [0.2504487,  0.1443145,  0.12345039, 0.14884554, 0.1940385,  0.04279158, 0.05565803, 0.04045276]\n",
        "results = []\n",
        "for i in range(8):\n",
        "  res = result[i] * 100\n",
        "  res = np.round(res, 2)\n",
        "  results.append(res)"
      ],
      "metadata": {
        "id": "WVIHNS8mZcSS"
      },
      "execution_count": null,
      "outputs": []
    },
    {
      "cell_type": "code",
      "source": [
        "results"
      ],
      "metadata": {
        "colab": {
          "base_uri": "https://localhost:8080/"
        },
        "id": "dJo98VFnZ1W2",
        "outputId": "97c7d654-3e37-48ca-8976-2fb121eae976"
      },
      "execution_count": null,
      "outputs": [
        {
          "output_type": "execute_result",
          "data": {
            "text/plain": [
              "[25.04, 14.43, 12.35, 14.88, 19.4, 4.28, 5.57, 4.05]"
            ]
          },
          "metadata": {},
          "execution_count": 53
        }
      ]
    },
    {
      "cell_type": "code",
      "source": [
        "sum(results)"
      ],
      "metadata": {
        "colab": {
          "base_uri": "https://localhost:8080/"
        },
        "id": "2Z-n5ejPZ3XN",
        "outputId": "11f5d702-eaba-4e8c-d4ad-f53a1b17edd3"
      },
      "execution_count": null,
      "outputs": [
        {
          "output_type": "execute_result",
          "data": {
            "text/plain": [
              "99.99999999999999"
            ]
          },
          "metadata": {},
          "execution_count": 54
        }
      ]
    },
    {
      "cell_type": "code",
      "source": [
        "y = Variable(8)\n",
        "x = Variable(8)\n",
        "r_means = np.array(df.mean())\n",
        "returns = np.array(df)\n",
        "alpha = 50\n",
        "u = np.ones(8) \n",
        "f = abs(sum(y)) / 12\n",
        "obj = cp.Minimize(f)\n",
        "B = 1\n",
        "\n",
        "constraints = [sum(x) == B,\n",
        "               sum(np.multiply(r_means, x)) >= alpha * B,\n",
        "               x >= 0,\n",
        "               x <= u,\n",
        "               y >= 0,\n",
        "               y >= -sum(np.multiply(returns - r_means, x)),\n",
        "               y >= sum(np.multiply(returns - r_means, x)),\n",
        "               ]\n",
        "\n",
        "prob = cp.Problem(obj, constraints)\n",
        "prob.solve()"
      ],
      "metadata": {
        "colab": {
          "base_uri": "https://localhost:8080/"
        },
        "id": "lJJLozH6aayb",
        "outputId": "2380dab0-244d-47f1-dd17-1e3097a109be"
      },
      "execution_count": null,
      "outputs": [
        {
          "output_type": "execute_result",
          "data": {
            "text/plain": [
              "1.4646598878256034e-10"
            ]
          },
          "metadata": {},
          "execution_count": 32
        }
      ]
    },
    {
      "cell_type": "code",
      "source": [
        "print(\"Optimal value: \", prob.value)\n",
        "print(\"Portfolio allocations: \", x.value)"
      ],
      "metadata": {
        "colab": {
          "base_uri": "https://localhost:8080/"
        },
        "id": "wU10JCwUdSzW",
        "outputId": "55a2b378-71c0-4343-9a8f-71b779e22ff7"
      },
      "execution_count": null,
      "outputs": [
        {
          "output_type": "stream",
          "name": "stdout",
          "text": [
            "Optimal value:  1.4646598878256034e-10\n",
            "Portfolio allocations:  [0.24903305 0.14433101 0.12364502 0.14881868 0.19349084 0.04339965\n",
            " 0.05620471 0.04107703]\n"
          ]
        }
      ]
    },
    {
      "cell_type": "code",
      "source": [
        "# result = [ 2.61250801e-09,  2.97618220e-08 , 2.91084805e-09,  2.85204778e-09, 9.99999961e-01 ,-1.30541938e-10 , 9.81184506e-10 , 4.95167939e-10]\n",
        "result = [0.2504487,  0.1443145,  0.12345039, 0.14884554, 0.1940385 , 0.04279158, 0.05565803 ,0.04045276]\n",
        "results = []\n",
        "for i in range(8):\n",
        "  res = result[i] * 100\n",
        "  res = np.round(res, 2)\n",
        "  results.append(res)\n",
        "results"
      ],
      "metadata": {
        "colab": {
          "base_uri": "https://localhost:8080/"
        },
        "id": "sJKAqL4ug-fc",
        "outputId": "c002eaba-d0d3-4a68-e734-c6cb4418328b"
      },
      "execution_count": null,
      "outputs": [
        {
          "output_type": "execute_result",
          "data": {
            "text/plain": [
              "[25.04, 14.43, 12.35, 14.88, 19.4, 4.28, 5.57, 4.05]"
            ]
          },
          "metadata": {},
          "execution_count": 28
        }
      ]
    },
    {
      "cell_type": "code",
      "source": [],
      "metadata": {
        "id": "PWOuIt5Lis1w"
      },
      "execution_count": null,
      "outputs": []
    }
  ]
}